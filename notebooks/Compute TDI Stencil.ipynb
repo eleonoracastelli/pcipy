{
 "cells": [
  {
   "cell_type": "markdown",
   "id": "c6fc6fe6",
   "metadata": {},
   "source": [
    "# Reverse engineering of realized TDI stencil\n",
    "Some aPCI studies will may want as a diagnostic, comparison, or reference, a representation of stencil that is applied by the TDI algorithm, or some approximant.  We had tools that could be applied for this from ground up in the old pylisa code, but it would be most valuable to be able to match with the actual stencils used in pyTDI sometimes.   Getting all the conventions and details right can be hard.  I did not notice a straightforward way to get this stencil info from the pyTDI code functions, because that isn't really how the calculation is organized at least at top level.  Fortunately it should be straightforward to extract this from the pyTDI code as a black box by probing it's impulse response."
   ]
  },
  {
   "cell_type": "code",
   "execution_count": 1,
   "id": "e79ef8ad",
   "metadata": {},
   "outputs": [],
   "source": [
    "from pytdi.michelson import X1, Y1, Z1, X2, Y2, Z2\n",
    "from pytdi import Data\n",
    "import h5py\n",
    "import numpy as np\n",
    "import copy\n",
    "import pcipy\n",
    "\n",
    "datadir = \"/data/jgbaker/software/pylisa/data/\"\n",
    "orbits = datadir+\"keplerian-orbits.h5\"\n",
    "workdir = datadir+\"/simulations/\"\n",
    "noise_file_base = \"2025-07-01_19h38_laser_tm_oms_\"\n",
    "dtpath = \"2024-04-10_18h14_\""
   ]
  },
  {
   "cell_type": "code",
   "execution_count": 2,
   "id": "ef5f4425",
   "metadata": {},
   "outputs": [],
   "source": [
    "##This is the code for computing TDI as we do it in noise_simulation:\n",
    "if 0:  #the code is just to look at\n",
    "    data_noise = Data.from_instrument(instr)\n",
    "    if args.tdi == '2':\n",
    "        X, Y, Z = X2, Y2, Z2\n",
    "    else:\n",
    "        X, Y, Z = X1, Y1, Z1\n",
    "    # Build other 2.0 Michelson variables\n",
    "    X_data = X.build(**data_noise.args)\n",
    "    Y_data = Y.build(**data_noise.args)\n",
    "    Z_data = Z.build(**data_noise.args)\n",
    "    # Apply TDI 2.0\n",
    "    x_noise = X_data(data_noise.measurements)\n",
    "    y_noise = Y_data(data_noise.measurements)\n",
    "    z_noise = Z_data(data_noise.measurements)"
   ]
  },
  {
   "cell_type": "code",
   "execution_count": 3,
   "id": "1d923166",
   "metadata": {},
   "outputs": [
    {
     "name": "stderr",
     "output_type": "stream",
     "text": [
      "You are using a measurement file in a version that might not be fully supported\n"
     ]
    }
   ],
   "source": [
    "# If we use a file\n",
    "simpath = workdir + dtpath + 'measurements_4Hz.h5'\n",
    "#simpath = workdir + noise_file_base + 'measurements_4Hz.h5'\n",
    "# load hdf5 file to read data attrs\n",
    "sim = h5py.File(simpath, 'r')\n",
    "# load data\n",
    "data_noise = Data.from_instrument(simpath)\n",
    "\n",
    "fs = data_noise.fs"
   ]
  },
  {
   "cell_type": "code",
   "execution_count": 3,
   "id": "a992f4fa",
   "metadata": {},
   "outputs": [
    {
     "name": "stderr",
     "output_type": "stream",
     "text": [
      "You are using a measurement file in a version that might not be fully supported\n"
     ]
    },
    {
     "ename": "KeyboardInterrupt",
     "evalue": "",
     "output_type": "error",
     "traceback": [
      "\u001b[0;31m---------------------------------------------------------------------------\u001b[0m",
      "\u001b[0;31mKeyboardInterrupt\u001b[0m                         Traceback (most recent call last)",
      "Cell \u001b[0;32mIn[3], line 16\u001b[0m\n\u001b[1;32m     13\u001b[0m Y_data_op \u001b[38;5;241m=\u001b[39m Y2\u001b[38;5;241m.\u001b[39mbuild(\u001b[38;5;241m*\u001b[39m\u001b[38;5;241m*\u001b[39mdata_noise\u001b[38;5;241m.\u001b[39margs)\n\u001b[1;32m     14\u001b[0m Z_data_op \u001b[38;5;241m=\u001b[39m Z2\u001b[38;5;241m.\u001b[39mbuild(\u001b[38;5;241m*\u001b[39m\u001b[38;5;241m*\u001b[39mdata_noise\u001b[38;5;241m.\u001b[39margs)\n\u001b[0;32m---> 16\u001b[0m X_n_orig\u001b[38;5;241m=\u001b[39m\u001b[43mX_data_op\u001b[49m\u001b[43m(\u001b[49m\u001b[43mdata_noise\u001b[49m\u001b[38;5;241;43m.\u001b[39;49m\u001b[43mmeasurements\u001b[49m\u001b[43m)\u001b[49m\n",
      "File \u001b[0;32m~/.conda/envs/pcienv/lib/python3.9/site-packages/pytdi/core.py:298\u001b[0m, in \u001b[0;36mTDICombination.build.<locals>.call\u001b[0;34m(measurements, order, unit)\u001b[0m\n\u001b[1;32m    295\u001b[0m \u001b[38;5;28;01mfor\u001b[39;00m factor, operator \u001b[38;5;129;01min\u001b[39;00m polynomial:\n\u001b[1;32m    296\u001b[0m     \u001b[38;5;66;03m# Shift the data, and add it to the result\u001b[39;00m\n\u001b[1;32m    297\u001b[0m     shift \u001b[38;5;241m=\u001b[39m shifts[\u001b[38;5;28mtuple\u001b[39m(operator)]\n\u001b[0;32m--> 298\u001b[0m     shifted \u001b[38;5;241m=\u001b[39m \u001b[43mdsp\u001b[49m\u001b[38;5;241;43m.\u001b[39;49m\u001b[43mtimeshift\u001b[49m\u001b[43m(\u001b[49m\u001b[43mmeasurements\u001b[49m\u001b[43m[\u001b[49m\u001b[43mmeasurement\u001b[49m\u001b[43m]\u001b[49m\u001b[43m,\u001b[49m\u001b[43m \u001b[49m\u001b[43mshift\u001b[49m\u001b[43m \u001b[49m\u001b[38;5;241;43m*\u001b[39;49m\u001b[43m \u001b[49m\u001b[43mfs\u001b[49m\u001b[43m,\u001b[49m\u001b[43m \u001b[49m\u001b[43morder\u001b[49m\u001b[43m)\u001b[49m\n\u001b[1;32m    299\u001b[0m     \u001b[38;5;28;01mif\u001b[39;00m unit \u001b[38;5;241m==\u001b[39m \u001b[38;5;124m'\u001b[39m\u001b[38;5;124mphase\u001b[39m\u001b[38;5;124m'\u001b[39m:\n\u001b[1;32m    300\u001b[0m         result \u001b[38;5;241m+\u001b[39m\u001b[38;5;241m=\u001b[39m factor \u001b[38;5;241m*\u001b[39m shifted\n",
      "File \u001b[0;32m~/.conda/envs/pcienv/lib/python3.9/site-packages/pytdi/dsp.py:112\u001b[0m, in \u001b[0;36mtimeshift\u001b[0;34m(data, shifts, order)\u001b[0m\n\u001b[1;32m    110\u001b[0m shift_ints \u001b[38;5;241m=\u001b[39m np\u001b[38;5;241m.\u001b[39mfloor(shifts)\n\u001b[1;32m    111\u001b[0m shift_fracs \u001b[38;5;241m=\u001b[39m shifts \u001b[38;5;241m-\u001b[39m shift_ints\n\u001b[0;32m--> 112\u001b[0m taps \u001b[38;5;241m=\u001b[39m \u001b[43mlagrange_taps\u001b[49m\u001b[43m(\u001b[49m\u001b[43mshift_fracs\u001b[49m\u001b[43m,\u001b[49m\u001b[43m \u001b[49m\u001b[43mhalfp\u001b[49m\u001b[43m)\u001b[49m\n\u001b[1;32m    113\u001b[0m shift_ints \u001b[38;5;241m=\u001b[39m shift_ints\u001b[38;5;241m.\u001b[39mastype(\u001b[38;5;28mint\u001b[39m)\n\u001b[1;32m    115\u001b[0m \u001b[38;5;66;03m# Handle constant shifts\u001b[39;00m\n",
      "File \u001b[0;32m~/.conda/envs/pcienv/lib/python3.9/site-packages/pytdi/dsp.py:175\u001b[0m, in \u001b[0;36mlagrange_taps\u001b[0;34m(shift_fracs, halfp)\u001b[0m\n\u001b[1;32m    172\u001b[0m     \u001b[38;5;28;01mfor\u001b[39;00m j \u001b[38;5;129;01min\u001b[39;00m \u001b[38;5;28mrange\u001b[39m(\u001b[38;5;241m2\u001b[39m, halfp):\n\u001b[1;32m    173\u001b[0m         taps \u001b[38;5;241m*\u001b[39m\u001b[38;5;241m=\u001b[39m \u001b[38;5;241m1\u001b[39m \u001b[38;5;241m-\u001b[39m (shift_fracs \u001b[38;5;241m/\u001b[39m j)\u001b[38;5;241m*\u001b[39m\u001b[38;5;241m*\u001b[39m\u001b[38;5;241m2\u001b[39m\n\u001b[0;32m--> 175\u001b[0m     taps \u001b[38;5;241m*\u001b[39m\u001b[38;5;241m=\u001b[39m (\u001b[38;5;241m1\u001b[39m \u001b[38;5;241m+\u001b[39m shift_fracs) \u001b[38;5;241m*\u001b[39m (\u001b[38;5;241m1\u001b[39m \u001b[38;5;241m-\u001b[39m shift_fracs \u001b[38;5;241m/\u001b[39m halfp)\n\u001b[1;32m    176\u001b[0m \u001b[38;5;28;01melse\u001b[39;00m:\n\u001b[1;32m    177\u001b[0m     taps[halfp \u001b[38;5;241m-\u001b[39m \u001b[38;5;241m1\u001b[39m] \u001b[38;5;241m=\u001b[39m \u001b[38;5;241m1\u001b[39m \u001b[38;5;241m-\u001b[39m shift_fracs\n",
      "\u001b[0;31mKeyboardInterrupt\u001b[0m: "
     ]
    }
   ],
   "source": [
    "# Build other 2.0 Michelson variables\n",
    "X_data_op = X2.build(**data_noise.args)\n",
    "Y_data_op = Y2.build(**data_noise.args)\n",
    "Z_data_op = Z2.build(**data_noise.args)\n",
    "\n",
    "X_n_orig=X_data_op(data_noise.measurements)"
   ]
  },
  {
   "cell_type": "code",
   "execution_count": 4,
   "id": "40f78b76",
   "metadata": {},
   "outputs": [
    {
     "data": {
      "text/plain": [
       "{'delays': {'d_12': array([-8.70607664e-27, -9.41529405e-10,  3.98050548e-08, ...,\n",
       "          8.33243894e+00,  8.33243894e+00,  8.33243894e+00]),\n",
       "  'd_23': array([-8.67514819e-27, -9.38184610e-10,  3.96636468e-08, ...,\n",
       "          8.30282194e+00,  8.30282194e+00,  8.30282194e+00]),\n",
       "  'd_31': array([-8.70607667e-27, -9.41529408e-10,  3.98050549e-08, ...,\n",
       "          8.33240702e+00,  8.33240702e+00,  8.33240702e+00]),\n",
       "  'd_13': array([-8.70521053e-27, -9.41435739e-10,  3.98010948e-08, ...,\n",
       "          8.33157805e+00,  8.33157805e+00,  8.33157805e+00]),\n",
       "  'd_32': array([-8.67686796e-27, -9.38370597e-10,  3.96715098e-08, ...,\n",
       "          8.30446790e+00,  8.30446790e+00,  8.30446790e+00]),\n",
       "  'd_21': array([-8.70521050e-27, -9.41435736e-10,  3.98010947e-08, ...,\n",
       "          8.33160997e+00,  8.33160997e+00,  8.33160997e+00])},\n",
       " 'fs': 4.0,\n",
       " 'delay_derivatives': {'d_12': array([-3.76611762e-09,  7.96101096e-08, -1.07046185e-06, ...,\n",
       "          3.19808890e-09,  3.19808535e-09,  3.19808890e-09]),\n",
       "  'd_23': array([-3.75273844e-09,  7.93272936e-08, -1.06665903e-06, ...,\n",
       "          6.03961325e-12,  6.03961325e-12,  6.03961325e-12]),\n",
       "  'd_31': array([-3.76611763e-09,  7.96101098e-08, -1.07046186e-06, ...,\n",
       "         -3.19744231e-09, -3.19743521e-09, -3.19743876e-09]),\n",
       "  'd_13': array([-3.76574295e-09,  7.96021897e-08, -1.07035536e-06, ...,\n",
       "         -3.19745652e-09, -3.19745652e-09, -3.19746007e-09]),\n",
       "  'd_32': array([-3.75348239e-09,  7.93430196e-08, -1.06687048e-06, ...,\n",
       "          6.03961325e-12,  6.04316597e-12,  6.03961325e-12]),\n",
       "  'd_21': array([-3.76574294e-09,  7.96021894e-08, -1.07035536e-06, ...,\n",
       "          3.19811377e-09,  3.19811022e-09,  3.19810667e-09])}}"
      ]
     },
     "metadata": {},
     "output_type": "display_data"
    },
    {
     "name": "stdout",
     "output_type": "stream",
     "text": [
      "[0. 0. 0. ... 0. 0. 0.] 0.0\n",
      "[ 7.91700037e-36  3.09996986e-17 -4.25476397e-15 ... -3.69809798e+01\n",
      "  3.75295520e+01 -3.28909303e+01]\n"
     ]
    }
   ],
   "source": [
    "\n",
    "#Test that we can work-with and reconstruct measurements and TDI for shorter series\n",
    "#REF measurements = {f'isi_{link}': dset[:,ilink] for ilink, link in enumerate(links)}\n",
    "mosas_order = ['12', '23', '31', '13', '21', '32']\n",
    "\n",
    "n=20000\n",
    "#make modified version of the data_noise args\n",
    "newargs=copy.deepcopy(data_noise.args)\n",
    "for k in newargs['delays'].keys():\n",
    "    #print(k,newargs['delays'][k].shape,newargs['delay_derivatives'][k].shape)\n",
    "    newargs['delays'][k]=newargs['delays'][k][:n]\n",
    "    newargs['delay_derivatives'][k]=newargs['delay_derivatives'][k][:n]\n",
    "#X_data_op_short = X2.build(**newargs)\n",
    "XYZ_ops=[chan.build(**newargs) for chan in [X2,Y2,Z2]]\n",
    "display(newargs)\n",
    "\n",
    "measurements_short=copy.deepcopy(data_noise.measurements)\n",
    "for k in measurements_short.keys():\n",
    "    #print(k,measurements[k].shape)\n",
    "    measurements_short[k]=measurements_short[k][:n]\n",
    "    \n",
    "X_n_short=XYZ_ops[0](measurements_short)\n",
    "\n",
    "print(X_n_orig[:n]-X_n_short,np.std(X_n_orig[:n]-X_n_short))\n",
    "print(X_n_short)"
   ]
  },
  {
   "cell_type": "code",
   "execution_count": 5,
   "id": "2b4b9a13",
   "metadata": {},
   "outputs": [
    {
     "name": "stdout",
     "output_type": "stream",
     "text": [
      "computing TDI\n",
      "[[ 1.72191555e-40 -2.64697796e-23  2.85873620e-21 ...  1.43251430e+02\n",
      "   1.88394944e+02 -1.67589604e+02]\n",
      " [-1.14794370e-40  1.04224757e-22 -9.36633151e-20 ...  1.71342445e+02\n",
      "   1.87736246e+02  5.01058165e+01]\n",
      " [-2.29588740e-41  6.28657266e-23  4.23599192e-21 ...  2.75048931e+01\n",
      "  -1.55602416e+02  3.12818294e+01]]\n"
     ]
    }
   ],
   "source": [
    "#now let's hack that process to get the zero-responses\n",
    "measurements_z=copy.deepcopy(measurements_short)\n",
    "for link in mosas_order:\n",
    "    name=f'isi_{link}'\n",
    "    data=np.zeros((n,))\n",
    "    #print(name,data.shape,'\\n',data)\n",
    "    measurements_z[name]=data\n",
    "print('computing TDI')\n",
    "XYZ_z=np.array([op(measurements_z) for op in XYZ_ops])\n",
    "print(XYZ_z)"
   ]
  },
  {
   "cell_type": "code",
   "execution_count": 6,
   "id": "6443659d",
   "metadata": {},
   "outputs": [
    {
     "name": "stdout",
     "output_type": "stream",
     "text": [
      "12\n",
      "23\n",
      "31\n",
      "13\n",
      "21\n",
      "32\n"
     ]
    },
    {
     "data": {
      "text/plain": [
       "{'12': array([[0., 0., 0., ..., 0., 0., 0.],\n",
       "        [0., 0., 0., ..., 0., 0., 0.],\n",
       "        [0., 0., 0., ..., 0., 0., 0.]]),\n",
       " '23': array([[0., 0., 0., ..., 0., 0., 0.],\n",
       "        [0., 0., 0., ..., 0., 0., 0.],\n",
       "        [0., 0., 0., ..., 0., 0., 0.]]),\n",
       " '31': array([[0., 0., 0., ..., 0., 0., 0.],\n",
       "        [0., 0., 0., ..., 0., 0., 0.],\n",
       "        [0., 0., 0., ..., 0., 0., 0.]]),\n",
       " '13': array([[0., 0., 0., ..., 0., 0., 0.],\n",
       "        [0., 0., 0., ..., 0., 0., 0.],\n",
       "        [0., 0., 0., ..., 0., 0., 0.]]),\n",
       " '21': array([[0., 0., 0., ..., 0., 0., 0.],\n",
       "        [0., 0., 0., ..., 0., 0., 0.],\n",
       "        [0., 0., 0., ..., 0., 0., 0.]]),\n",
       " '32': array([[0., 0., 0., ..., 0., 0., 0.],\n",
       "        [0., 0., 0., ..., 0., 0., 0.],\n",
       "        [0., 0., 0., ..., 0., 0., 0.]])}"
      ]
     },
     "metadata": {},
     "output_type": "display_data"
    }
   ],
   "source": [
    "#now let's hack that process to get the single-point-impulse-responses\n",
    "i0=1000\n",
    "XYZ_1={}\n",
    "for link in mosas_order:\n",
    "    print(link)\n",
    "    measurements_1=copy.deepcopy(measurements_z)\n",
    "    name=f'isi_{link}'\n",
    "    #print(name,data.shape,'\\n',data)\n",
    "    measurements_1[name][i0]=1\n",
    "    XYZ_z=np.array([op(measurements_1) for op in XYZ_ops])\n",
    "    XYZ_1[link]=np.array([op(measurements_z) for op in XYZ_ops])-XYZ_z\n",
    "display(XYZ_1)"
   ]
  },
  {
   "cell_type": "code",
   "execution_count": 7,
   "id": "fca5798d",
   "metadata": {},
   "outputs": [
    {
     "name": "stdout",
     "output_type": "stream",
     "text": [
      "12 X 97 [1000, 1215]\n",
      "12 Y 128 [1018, 1248]\n",
      "12 Z 0 \n",
      "23 X 0 \n",
      "23 Y 97 [1000, 1215]\n",
      "23 Z 128 [1018, 1248]\n",
      "31 X 128 [1018, 1249]\n",
      "31 Y 0 \n",
      "31 Z 97 [1000, 1215]\n",
      "13 X 97 [1000, 1215]\n",
      "13 Y 0 \n",
      "13 Z 128 [1018, 1248]\n",
      "21 X 128 [1018, 1249]\n",
      "21 Y 97 [1000, 1215]\n",
      "21 Z 0 \n",
      "32 X 0 \n",
      "32 Y 128 [1018, 1248]\n",
      "32 Z 97 [1000, 1215]\n",
      "length,first,last 250 1000 1249\n"
     ]
    }
   ],
   "source": [
    "minmaxs=[]\n",
    "for link in mosas_order:\n",
    "    for i in range(3):\n",
    "        nz=np.nonzero(XYZ_1[link][i])[0]\n",
    "        minmax = [min(nz),max(nz)] if len(nz)>0 else ''\n",
    "        print(link,'XYZ'[i],len(nz),minmax)\n",
    "        if len(nz)>0:minmaxs+=[minmax]\n",
    "first=min([minmax[0] for minmax in minmaxs])\n",
    "last=max([minmax[1] for minmax in minmaxs])\n",
    "length=last+1-first\n",
    "print('length,first,last',length,first,last)\n",
    "        "
   ]
  },
  {
   "cell_type": "code",
   "execution_count": 8,
   "id": "14e68e48",
   "metadata": {},
   "outputs": [
    {
     "name": "stdout",
     "output_type": "stream",
     "text": [
      "(3, 6, 250)\n"
     ]
    }
   ],
   "source": [
    "stencils=np.array([XYZ_1[link][:,first:last+1] for link in mosas_order]).transpose((1,0,2))\n",
    "print(stencils.shape)"
   ]
  },
  {
   "cell_type": "code",
   "execution_count": 9,
   "id": "81d0cc3c",
   "metadata": {},
   "outputs": [],
   "source": [
    "###Now we reorganize pack that all into a neat bundle\n",
    "def compute_TDI_stencil(noise_data,i0=0,nleft=500,nright=1000):\n",
    "\n",
    "    assert i0-nleft>=0, \"out of range\"\n",
    "    mosas_order = ['12', '23', '31', '13', '21', '32']\n",
    "\n",
    "    #make modified version of the data_noise args\n",
    "    newargs=copy.deepcopy(noise_data.args)\n",
    "    for k in newargs['delays'].keys():\n",
    "        #print(k,newargs['delays'][k].shape,newargs['delay_derivatives'][k].shape)\n",
    "        newargs['delays'][k]=newargs['delays'][k][i0-nleft:i0+nright]\n",
    "        newargs['delay_derivatives'][k]=newargs['delay_derivatives'][k][i0-nleft:i0+nright]\n",
    "    XYZ_ops=[chan.build(**newargs) for chan in [X2,Y2,Z2]]\n",
    "    #display(newargs)\n",
    "\n",
    "    #Compute the zero-response for the relevant stretch of data\n",
    "    measurements_z=copy.deepcopy(noise_data.measurements)\n",
    "    for k in measurements_z.keys():\n",
    "        #print(k,measurements[k].shape)\n",
    "        measurements_z[k]=measurements_z[k][i0-nleft:i0+nright]\n",
    "\n",
    "    for link in mosas_order:\n",
    "        name=f'isi_{link}'\n",
    "        data=np.zeros((nleft+nright,))\n",
    "        measurements_z[name]=data\n",
    "    #print('computing TDI')\n",
    "    XYZ_z=np.array([op(measurements_z) for op in XYZ_ops])\n",
    "    #print(XYZ_z)\n",
    "    \n",
    "    #now get the single-point-impulse-responses\n",
    "    XYZ_1={}\n",
    "    minmaxs=[]\n",
    "    for link in mosas_order:\n",
    "        #print(link)\n",
    "        measurements_1=copy.deepcopy(measurements_z)\n",
    "        name=f'isi_{link}'\n",
    "        #print(name,data.shape,'\\n',data)\n",
    "        measurements_1[name][nleft]=1\n",
    "        XYZ_z=np.array([op(measurements_1) for op in XYZ_ops])\n",
    "        XYZ_1[link]=np.array([op(measurements_z) for op in XYZ_ops])-XYZ_z\n",
    "        for i in range(3):\n",
    "            nz=np.nonzero(XYZ_1[link][i])[0]\n",
    "            minmax = [min(nz),max(nz)] if len(nz)>0 else ''\n",
    "            #print(link,'XYZ'[i],len(nz),minmax)\n",
    "            if len(nz)>0:minmaxs+=[minmax]\n",
    "    #display(XYZ_1)\n",
    "    first=min([minmax[0] for minmax in minmaxs])\n",
    "    last=max([minmax[1] for minmax in minmaxs])\n",
    "    length=last+1-first\n",
    "    print('length,first,last',length,first,last)\n",
    "    \n",
    "    stencil=np.zeros((3,6,length))\n",
    "    for ilink in range(len(mosas_order)):\n",
    "        link=mosas_order[ilink]\n",
    "        for i in range(3):\n",
    "            stencil[:,ilink,:]=XYZ_1[link][:,first:last+1]\n",
    "        #print('shape change:',XYZ_1[link].shape,stencil[link].shape)\n",
    "    ioff=nleft-first\n",
    "    #print('ioff',ioff)\n",
    "    #display(stencil)\n",
    "    return ioff, stencil    \n"
   ]
  },
  {
   "cell_type": "code",
   "execution_count": 10,
   "id": "a4353679",
   "metadata": {},
   "outputs": [
    {
     "name": "stderr",
     "output_type": "stream",
     "text": [
      "You are using a measurement file in a development version\n",
      "You are using a measurement file in a version that might not be fully supported\n"
     ]
    }
   ],
   "source": [
    "#Read data from file\n",
    "simpath = workdir + noise_file_base + 'measurements_4Hz.h5'\n",
    "# load hdf5 file to read data attrs\n",
    "sim = h5py.File(simpath, 'r')\n",
    "# load data\n",
    "data_noise = Data.from_instrument(simpath)"
   ]
  },
  {
   "cell_type": "code",
   "execution_count": 11,
   "id": "b02ed654",
   "metadata": {},
   "outputs": [
    {
     "name": "stdout",
     "output_type": "stream",
     "text": [
      "length,first,last 250 1000 1249\n"
     ]
    },
    {
     "data": {
      "text/plain": [
       "(0,\n",
       " array([[[ 1.00000000e+00,  0.00000000e+00,  0.00000000e+00, ...,\n",
       "           0.00000000e+00,  0.00000000e+00,  0.00000000e+00],\n",
       "         [ 0.00000000e+00,  0.00000000e+00,  0.00000000e+00, ...,\n",
       "           0.00000000e+00,  0.00000000e+00,  0.00000000e+00],\n",
       "         [ 0.00000000e+00,  0.00000000e+00,  0.00000000e+00, ...,\n",
       "           2.83373538e-08, -1.76078174e-09,  5.31485966e-11],\n",
       "         [-1.00000000e+00,  0.00000000e+00,  0.00000000e+00, ...,\n",
       "           0.00000000e+00,  0.00000000e+00,  0.00000000e+00],\n",
       "         [ 0.00000000e+00,  0.00000000e+00,  0.00000000e+00, ...,\n",
       "          -2.85622264e-08,  1.77442416e-09, -5.36033440e-11],\n",
       "         [ 0.00000000e+00,  0.00000000e+00,  0.00000000e+00, ...,\n",
       "           0.00000000e+00,  0.00000000e+00,  0.00000000e+00]],\n",
       " \n",
       "        [[ 0.00000000e+00,  0.00000000e+00,  0.00000000e+00, ...,\n",
       "          -1.10287601e-09,  3.31965566e-11,  0.00000000e+00],\n",
       "         [ 1.00000000e+00,  0.00000000e+00,  0.00000000e+00, ...,\n",
       "           0.00000000e+00,  0.00000000e+00,  0.00000000e+00],\n",
       "         [ 0.00000000e+00,  0.00000000e+00,  0.00000000e+00, ...,\n",
       "           0.00000000e+00,  0.00000000e+00,  0.00000000e+00],\n",
       "         [ 0.00000000e+00,  0.00000000e+00,  0.00000000e+00, ...,\n",
       "           0.00000000e+00,  0.00000000e+00,  0.00000000e+00],\n",
       "         [-1.00000000e+00,  0.00000000e+00,  0.00000000e+00, ...,\n",
       "           0.00000000e+00,  0.00000000e+00,  0.00000000e+00],\n",
       "         [ 0.00000000e+00,  0.00000000e+00,  0.00000000e+00, ...,\n",
       "           3.45835360e-10, -1.04591891e-11,  0.00000000e+00]],\n",
       " \n",
       "        [[ 0.00000000e+00,  0.00000000e+00,  0.00000000e+00, ...,\n",
       "           0.00000000e+00,  0.00000000e+00,  0.00000000e+00],\n",
       "         [ 0.00000000e+00,  0.00000000e+00,  0.00000000e+00, ...,\n",
       "          -2.98541636e-10,  9.09494702e-12,  0.00000000e+00],\n",
       "         [ 1.00000000e+00,  0.00000000e+00,  0.00000000e+00, ...,\n",
       "           0.00000000e+00,  0.00000000e+00,  0.00000000e+00],\n",
       "         [ 0.00000000e+00,  0.00000000e+00,  0.00000000e+00, ...,\n",
       "           1.08235554e-09, -3.25997007e-11,  0.00000000e+00],\n",
       "         [ 0.00000000e+00,  0.00000000e+00,  0.00000000e+00, ...,\n",
       "           0.00000000e+00,  0.00000000e+00,  0.00000000e+00],\n",
       "         [-1.00000000e+00,  0.00000000e+00,  0.00000000e+00, ...,\n",
       "           0.00000000e+00,  0.00000000e+00,  0.00000000e+00]]]))"
      ]
     },
     "execution_count": 11,
     "metadata": {},
     "output_type": "execute_result"
    }
   ],
   "source": [
    "compute_TDI_stencil(data_noise,i0=1000,nleft=1000,nright=19000)"
   ]
  },
  {
   "cell_type": "code",
   "execution_count": 12,
   "id": "77ae165f",
   "metadata": {},
   "outputs": [
    {
     "name": "stdout",
     "output_type": "stream",
     "text": [
      "length,first,last 250 100 349\n"
     ]
    }
   ],
   "source": [
    "ioff,s1000=compute_TDI_stencil(data_noise,i0=1000,nleft=100,nright=500)"
   ]
  },
  {
   "cell_type": "code",
   "execution_count": 13,
   "id": "8b0ced2e",
   "metadata": {},
   "outputs": [
    {
     "name": "stdout",
     "output_type": "stream",
     "text": [
      "length,first,last 250 100 349\n",
      "0\n",
      "length,first,last 250 100 349\n",
      "0\n",
      "length,first,last 250 100 349\n",
      "0\n",
      "length,first,last 250 100 349\n",
      "0\n",
      "length,first,last 250 100 349\n",
      "0\n",
      "length,first,last 250 100 349\n",
      "0\n",
      "length,first,last 250 100 349\n",
      "0\n",
      "length,first,last 250 100 349\n",
      "0\n",
      "length,first,last 250 100 349\n",
      "0\n"
     ]
    }
   ],
   "source": [
    "ioff,s2000=compute_TDI_stencil(data_noise,i0=2000,nleft=100,nright=500);print(ioff)\n",
    "ioff,s4000=compute_TDI_stencil(data_noise,i0=4000,nleft=100,nright=500);print(ioff)\n",
    "ioff,s8000=compute_TDI_stencil(data_noise,i0=8000,nleft=100,nright=500);print(ioff)\n",
    "ioff,s16000=compute_TDI_stencil(data_noise,i0=16000,nleft=100,nright=500);print(ioff)\n",
    "ioff,s32000=compute_TDI_stencil(data_noise,i0=32000,nleft=100,nright=500);print(ioff)\n",
    "ioff,s64000=compute_TDI_stencil(data_noise,i0=64000,nleft=100,nright=500);print(ioff)\n",
    "ioff,s128000=compute_TDI_stencil(data_noise,i0=128000,nleft=100,nright=500);print(ioff)\n",
    "ioff,s256000=compute_TDI_stencil(data_noise,i0=256000,nleft=100,nright=500);print(ioff)\n",
    "ioff,s512000=compute_TDI_stencil(data_noise,i0=512000,nleft=100,nright=500);print(ioff)"
   ]
  },
  {
   "cell_type": "code",
   "execution_count": 14,
   "id": "cc870da1",
   "metadata": {},
   "outputs": [],
   "source": [
    "def ip(a,b):\n",
    "    return np.sum(a*b)\n",
    "def norm(a):\n",
    "    return ip(a,a)\n",
    "def ac(a,b):\n",
    "    return ip(a,b)/np.sqrt(norm(a)*norm(b))"
   ]
  },
  {
   "cell_type": "code",
   "execution_count": 15,
   "id": "396f8cb2",
   "metadata": {},
   "outputs": [
    {
     "name": "stdout",
     "output_type": "stream",
     "text": [
      "(6, 250)\n"
     ]
    }
   ],
   "source": [
    "print(s1000[0].shape)"
   ]
  },
  {
   "cell_type": "code",
   "execution_count": 16,
   "id": "097a6378",
   "metadata": {},
   "outputs": [
    {
     "data": {
      "text/plain": [
       "[[1.0, 0.0, 0.0], [0.0, 1.0, 0.0], [0.0, 0.0, 1.0]]"
      ]
     },
     "metadata": {},
     "output_type": "display_data"
    },
    {
     "data": {
      "text/plain": [
       "[[1.0, 0.0, 0.0], [0.0, 1.0, 0.0], [0.0, 0.0, 1.0]]"
      ]
     },
     "metadata": {},
     "output_type": "display_data"
    },
    {
     "data": {
      "text/plain": [
       "[[0.999999999978185, 0.0, 0.0],\n",
       " [0.0, 0.9999999999314465, 0.0],\n",
       " [0.0, 0.0, 0.9999999999315501]]"
      ]
     },
     "metadata": {},
     "output_type": "display_data"
    }
   ],
   "source": [
    "def ac_matrix(a,b): return [[ac(a[i],b[j]) for i in range(3)] for j in range(3)]\n",
    "display(ac_matrix(s1000,s1000))\n",
    "display(ac_matrix(s2000,s2000))\n",
    "display(ac_matrix(s1000,s2000))"
   ]
  },
  {
   "cell_type": "code",
   "execution_count": 17,
   "id": "ab8af101",
   "metadata": {},
   "outputs": [
    {
     "data": {
      "text/plain": [
       "[[1.0, 0.0, 0.0], [0.0, 1.0, 0.0], [0.0, 0.0, 1.0]]"
      ]
     },
     "metadata": {},
     "output_type": "display_data"
    },
    {
     "data": {
      "text/plain": [
       "[[1.0, 0.0, 0.0], [0.0, 1.0, 0.0], [0.0, 0.0, 1.0]]"
      ]
     },
     "metadata": {},
     "output_type": "display_data"
    },
    {
     "data": {
      "text/plain": [
       "[[0.9999999998036644, 0.0, 0.0],\n",
       " [0.0, 0.9999999993829175, 0.0],\n",
       " [0.0, 0.0, 0.9999999993840522]]"
      ]
     },
     "metadata": {},
     "output_type": "display_data"
    }
   ],
   "source": [
    "display(ac_matrix(s1000,s1000))\n",
    "display(ac_matrix(s4000,s4000))\n",
    "display(ac_matrix(s1000,s4000))"
   ]
  },
  {
   "cell_type": "code",
   "execution_count": 18,
   "id": "8c2978f1",
   "metadata": {},
   "outputs": [
    {
     "data": {
      "text/plain": [
       "[[1.0, 0.0, 0.0], [0.0, 1.0, 0.0], [0.0, 0.0, 1.0]]"
      ]
     },
     "metadata": {},
     "output_type": "display_data"
    },
    {
     "data": {
      "text/plain": [
       "[[1.0, 0.0, 0.0], [0.0, 1.0, 0.0], [0.0, 0.0, 1.0]]"
      ]
     },
     "metadata": {},
     "output_type": "display_data"
    },
    {
     "data": {
      "text/plain": [
       "[[0.9999999989310613, 0.0, 0.0],\n",
       " [0.0, 0.9999999966392243, 0.0],\n",
       " [0.0, 0.0, 0.9999999966476086]]"
      ]
     },
     "metadata": {},
     "output_type": "display_data"
    }
   ],
   "source": [
    "display(ac_matrix(s1000,s1000))\n",
    "display(ac_matrix(s8000,s8000))\n",
    "display(ac_matrix(s1000,s8000))"
   ]
  },
  {
   "cell_type": "code",
   "execution_count": 19,
   "id": "11b7029c",
   "metadata": {},
   "outputs": [
    {
     "data": {
      "text/plain": [
       "[[1.0, 0.0, 0.0], [0.0, 1.0, 0.0], [0.0, 0.0, 1.0]]"
      ]
     },
     "metadata": {},
     "output_type": "display_data"
    },
    {
     "data": {
      "text/plain": [
       "[[1.0, 0.0, 0.0], [0.0, 1.0, 0.0], [0.0, 0.0, 1.0]]"
      ]
     },
     "metadata": {},
     "output_type": "display_data"
    },
    {
     "data": {
      "text/plain": [
       "[[0.9999999950916093, 0.0, 0.0],\n",
       " [0.0, 0.9999999845577234, 0.0],\n",
       " [0.0, 0.0, 0.999999984616496]]"
      ]
     },
     "metadata": {},
     "output_type": "display_data"
    }
   ],
   "source": [
    "display(ac_matrix(s1000,s1000))\n",
    "display(ac_matrix(s16000,s16000))\n",
    "display(ac_matrix(s1000,s16000))"
   ]
  },
  {
   "cell_type": "code",
   "execution_count": 20,
   "id": "ad6addc6",
   "metadata": {},
   "outputs": [
    {
     "data": {
      "text/plain": [
       "[[1.0, 0.0, 0.0], [0.0, 1.0, 0.0], [0.0, 0.0, 1.0]]"
      ]
     },
     "metadata": {},
     "output_type": "display_data"
    },
    {
     "data": {
      "text/plain": [
       "[[1.0, 0.0, 0.0], [0.0, 1.0, 0.0], [0.0, 0.0, 1.0]]"
      ]
     },
     "metadata": {},
     "output_type": "display_data"
    },
    {
     "data": {
      "text/plain": [
       "[[0.9999999790357329, 0.0, 0.0],\n",
       " [0.0, 0.9999999339576379, 0.0],\n",
       " [0.0, 0.0, 0.9999999343818382]]"
      ]
     },
     "metadata": {},
     "output_type": "display_data"
    }
   ],
   "source": [
    "display(ac_matrix(s1000,s1000))\n",
    "display(ac_matrix(s32000,s32000))\n",
    "display(ac_matrix(s1000,s32000))"
   ]
  },
  {
   "cell_type": "code",
   "execution_count": 21,
   "id": "6dddaab5",
   "metadata": {},
   "outputs": [
    {
     "data": {
      "text/plain": [
       "[[1.0, 0.0, 0.0], [0.0, 1.0, 0.0], [0.0, 0.0, 1.0]]"
      ]
     },
     "metadata": {},
     "output_type": "display_data"
    },
    {
     "data": {
      "text/plain": [
       "[[1.0, 0.0, 0.0], [0.0, 1.0, 0.0], [0.0, 0.0, 1.0]]"
      ]
     },
     "metadata": {},
     "output_type": "display_data"
    },
    {
     "data": {
      "text/plain": [
       "[[0.9999999134162745, 0.0, 0.0],\n",
       " [0.0, 0.9999997265236256, 0.0],\n",
       " [0.0, 0.0, 0.999999729706047]]"
      ]
     },
     "metadata": {},
     "output_type": "display_data"
    }
   ],
   "source": [
    "display(ac_matrix(s1000,s1000))\n",
    "display(ac_matrix(s64000,s64000))\n",
    "display(ac_matrix(s1000,s64000))"
   ]
  },
  {
   "cell_type": "code",
   "execution_count": 22,
   "id": "077625cf",
   "metadata": {},
   "outputs": [
    {
     "data": {
      "text/plain": [
       "[[1.0, 0.0, 0.0], [0.0, 1.0, 0.0], [0.0, 0.0, 1.0]]"
      ]
     },
     "metadata": {},
     "output_type": "display_data"
    },
    {
     "data": {
      "text/plain": [
       "[[1.0, 0.0, 0.0], [0.0, 1.0, 0.0], [0.0, 0.0, 1.0]]"
      ]
     },
     "metadata": {},
     "output_type": "display_data"
    },
    {
     "data": {
      "text/plain": [
       "[[0.9999996481493395, 0.0, 0.0],\n",
       " [0.0, 0.9999988828282903, 0.0],\n",
       " [0.0, 0.0, 0.9999989073861953]]"
      ]
     },
     "metadata": {},
     "output_type": "display_data"
    }
   ],
   "source": [
    "display(ac_matrix(s1000,s1000))\n",
    "display(ac_matrix(s128000,s128000))\n",
    "display(ac_matrix(s1000,s128000))"
   ]
  },
  {
   "cell_type": "code",
   "execution_count": 23,
   "id": "c6987a62",
   "metadata": {},
   "outputs": [
    {
     "data": {
      "text/plain": [
       "[[1.0, 0.0, 0.0], [0.0, 1.0, 0.0], [0.0, 0.0, 1.0]]"
      ]
     },
     "metadata": {},
     "output_type": "display_data"
    },
    {
     "data": {
      "text/plain": [
       "[[1.0, 0.0, 0.0], [0.0, 1.0, 0.0], [0.0, 0.0, 1.0]]"
      ]
     },
     "metadata": {},
     "output_type": "display_data"
    },
    {
     "data": {
      "text/plain": [
       "[[0.9999985815471926, 0.0, 0.0],\n",
       " [0.0, 0.9999954488702867, 0.0],\n",
       " [0.0, 0.0, 0.9999956415963631]]"
      ]
     },
     "metadata": {},
     "output_type": "display_data"
    }
   ],
   "source": [
    "display(ac_matrix(s1000,s1000))\n",
    "display(ac_matrix(s256000,s256000))\n",
    "display(ac_matrix(s1000,s256000))"
   ]
  },
  {
   "cell_type": "code",
   "execution_count": 4,
   "id": "bc8ad95c",
   "metadata": {},
   "outputs": [],
   "source": [
    "#Compare with code in tdi_filter:\n",
    "import importlib\n",
    "importlib.reload(pcipy)\n",
    "import pcipy.tdi_filter\n",
    "import pcipy.filter\n",
    "importlib.reload(pcipy.tdi_filter)\n",
    "importlib.reload(pcipy.filter)\n",
    "TDIFilter=pcipy.tdi_filter.DeducedTDIFilter\n",
    "ioff,sp1000=TDIFilter.compute_stencil_from_measurements(data_noise,i0=1000,nleft=400,nright=600)\n",
    "tdifilt=TDIFilter(data_noise,i0=1000)\n",
    "st1000=np.transpose(tdifilt.stencil_compts,[0,2,1])"
   ]
  },
  {
   "cell_type": "code",
   "execution_count": 5,
   "id": "8441411b",
   "metadata": {},
   "outputs": [
    {
     "name": "stdout",
     "output_type": "stream",
     "text": [
      "[[[0. 0. 0. ... 0. 0. 0.]\n",
      "  [0. 0. 0. ... 0. 0. 0.]\n",
      "  [0. 0. 0. ... 0. 0. 0.]\n",
      "  [0. 0. 0. ... 0. 0. 0.]\n",
      "  [0. 0. 0. ... 0. 0. 0.]\n",
      "  [0. 0. 0. ... 0. 0. 0.]]\n",
      "\n",
      " [[0. 0. 0. ... 0. 0. 0.]\n",
      "  [0. 0. 0. ... 0. 0. 0.]\n",
      "  [0. 0. 0. ... 0. 0. 0.]\n",
      "  [0. 0. 0. ... 0. 0. 0.]\n",
      "  [0. 0. 0. ... 0. 0. 0.]\n",
      "  [0. 0. 0. ... 0. 0. 0.]]\n",
      "\n",
      " [[0. 0. 0. ... 0. 0. 0.]\n",
      "  [0. 0. 0. ... 0. 0. 0.]\n",
      "  [0. 0. 0. ... 0. 0. 0.]\n",
      "  [0. 0. 0. ... 0. 0. 0.]\n",
      "  [0. 0. 0. ... 0. 0. 0.]\n",
      "  [0. 0. 0. ... 0. 0. 0.]]]\n",
      "0.0\n"
     ]
    }
   ],
   "source": [
    "print(np.sort(sp1000-st1000))\n",
    "print(np.mean(sp1000-st1000))"
   ]
  },
  {
   "cell_type": "code",
   "execution_count": 6,
   "id": "0d21d09d",
   "metadata": {},
   "outputs": [
    {
     "name": "stdout",
     "output_type": "stream",
     "text": [
      "(1035800, 6)\n"
     ]
    }
   ],
   "source": [
    "from pytdi.intervar import ETA_SET\n",
    "skip=1000\n",
    "mosas_order=['12', '23', '31', '13', '21', '32']\n",
    "def build_data_vector(data_noise, skip=300, dtype=np.float64):\n",
    "    central_freq = 281600000000000.0\n",
    "    # Conventions 1, 2, 3, 1p, 2p, 3p\n",
    "    delays_order = ['23', '31', '12', '32', '13', '21']\n",
    "    mosas_order = ['12', '23', '31', '13', '21', '32']\n",
    "    # Form intermediary variables for full data\n",
    "    ETA_data_set = {key: ETA_SET[key].build(**data_noise.args) for key in ETA_SET.keys()}\n",
    "    eta_noise_set = {key: ETA_data_set[key](data_noise.measurements) for key in ETA_data_set.keys()}\n",
    "    # Form the measurement vector for moving arms containing all noises\n",
    "    y = np.array([eta_noise_set[f'eta_{mosa}'] / central_freq for mosa in mosas_order], dtype=dtype).T\n",
    "    y_full = y[skip:, :]\n",
    "    del y\n",
    "\n",
    "    return y_full\n",
    "\n",
    "y_full = build_data_vector(data_noise, skip=skip)\n",
    "print(y_full.shape)"
   ]
  },
  {
   "cell_type": "code",
   "execution_count": 7,
   "id": "02a0bc79",
   "metadata": {},
   "outputs": [],
   "source": [
    "import importlib\n",
    "import pcipy\n",
    "importlib.reload(pcipy)\n",
    "import pcipy.data\n",
    "importlib.reload(pcipy.data)\n",
    "importlib.reload(pcipy.filter)\n",
    "TimeData=pcipy.data.TimeData\n",
    "y_td=TimeData(y_full.T, dt=1/fs,names=mosas_order)"
   ]
  },
  {
   "cell_type": "code",
   "execution_count": 8,
   "id": "a53165f1",
   "metadata": {},
   "outputs": [
    {
     "name": "stdout",
     "output_type": "stream",
     "text": [
      "0 0 249 (3, 250, 6) (6, 1035800)\n",
      "1 0 249 (3, 250, 6) (6, 1035800)\n",
      "2 0 249 (3, 250, 6) (6, 1035800)\n",
      "0.8220508098602295\n"
     ]
    }
   ],
   "source": [
    "import time\n",
    "s=time.time()\n",
    "XYZc=tdifilt.apply_filter(y_td,method='convolve')\n",
    "print(time.time()-s)"
   ]
  },
  {
   "cell_type": "code",
   "execution_count": 9,
   "id": "99f03fd9",
   "metadata": {},
   "outputs": [
    {
     "name": "stdout",
     "output_type": "stream",
     "text": [
      "0 0 249\n",
      "1 0 249\n",
      "2 0 249\n",
      "23.000014305114746\n"
     ]
    }
   ],
   "source": [
    "import time\n",
    "s=time.time()\n",
    "XYZ=tdifilt.apply_filter(y_td)\n",
    "print(time.time()-s)"
   ]
  },
  {
   "cell_type": "code",
   "execution_count": 15,
   "id": "3bde359b",
   "metadata": {},
   "outputs": [
    {
     "data": {
      "text/plain": [
       "(-3.1218352593078596e-12,\n",
       " -8.257777056670116e-20,\n",
       " 3.2391458525266398e-12,\n",
       " 6.300319030700201e-13)"
      ]
     },
     "metadata": {},
     "output_type": "display_data"
    },
    {
     "data": {
      "text/plain": [
       "(-4.4534295252681613e-13,\n",
       " -8.769441972763858e-21,\n",
       " 4.3794685186858764e-13,\n",
       " 8.712949132936377e-14)"
      ]
     },
     "metadata": {},
     "output_type": "display_data"
    },
    {
     "data": {
      "text/plain": [
       "(-3.3088168570700103e-12,\n",
       " -7.380832859399561e-20,\n",
       " 3.2574242213062998e-12,\n",
       " 6.36036387643487e-13)"
      ]
     },
     "metadata": {},
     "output_type": "display_data"
    }
   ],
   "source": [
    "mmm=lambda x:(np.min(x),np.mean(x),np.max(x),np.std(x))\n",
    "display(mmm(XYZ.data))\n",
    "display(mmm(XYZc.data))\n",
    "display(mmm(XYZ.data-XYZc.data))"
   ]
  },
  {
   "cell_type": "code",
   "execution_count": null,
   "id": "43c11814",
   "metadata": {},
   "outputs": [],
   "source": []
  }
 ],
 "metadata": {
  "kernelspec": {
   "display_name": "pcienv-kernel",
   "language": "python",
   "name": "pcienv-kernel"
  },
  "language_info": {
   "codemirror_mode": {
    "name": "ipython",
    "version": 3
   },
   "file_extension": ".py",
   "mimetype": "text/x-python",
   "name": "python",
   "nbconvert_exporter": "python",
   "pygments_lexer": "ipython3",
   "version": "3.9.19"
  }
 },
 "nbformat": 4,
 "nbformat_minor": 5
}
